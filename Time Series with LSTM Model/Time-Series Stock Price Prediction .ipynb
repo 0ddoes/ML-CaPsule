{
 "cells": [
  {
   "cell_type": "code",
   "execution_count": 1,
   "metadata": {},
   "outputs": [
    {
     "name": "stderr",
     "output_type": "stream",
     "text": [
      "/usr/lib/python3/dist-packages/requests/__init__.py:89: RequestsDependencyWarning: urllib3 (1.26.5) or chardet (3.0.4) doesn't match a supported version!\n",
      "  warnings.warn(\"urllib3 ({}) or chardet ({}) doesn't match a supported \"\n"
     ]
    }
   ],
   "source": [
    "import pandas as pd\n",
    "import numpy as np\n",
    "import matplotlib.pyplot as plt\n",
    "\n",
    "import yfinance as yf\n",
    "import scipy.stats as stats\n",
    "import datetime\n",
    "import time\n",
    "import requests\n",
    "import io\n",
    "\n",
    "import warnings\n",
    "warnings.filterwarnings('ignore')"
   ]
  },
  {
   "cell_type": "markdown",
   "metadata": {},
   "source": [
    "### Give the Name of Stock"
   ]
  },
  {
   "cell_type": "code",
   "execution_count": 2,
   "metadata": {},
   "outputs": [],
   "source": [
    "Symbols = ['GOOGL']"
   ]
  },
  {
   "cell_type": "code",
   "execution_count": 3,
   "metadata": {},
   "outputs": [],
   "source": [
    "#Function to download Data From Yahoo Finance\n",
    "def download_data(start,end):\n",
    "    stock_final = pd.DataFrame()\n",
    "    # iterate over each symbol\n",
    "    for i in Symbols:  \n",
    "\n",
    "        # print the symbol which is being downloaded\n",
    "        print( str(Symbols.index(i)) + str(' : ') + i, sep=',', end=',', flush=True)  \n",
    "\n",
    "        try:\n",
    "            # download the stock price \n",
    "            stock = []\n",
    "            stock = yf.download(i,start=start, end=end, progress=False)\n",
    "            # append the individual stock prices \n",
    "            if len(stock) == 0:\n",
    "                None\n",
    "            else:\n",
    "                stock['Name']=i\n",
    "                stock_final = stock_final.append(stock,sort=False)\n",
    "        except Exception:\n",
    "            None\n",
    "    return stock_final"
   ]
  },
  {
   "cell_type": "code",
   "execution_count": 4,
   "metadata": {},
   "outputs": [],
   "source": [
    "#Give the start and End Time duration of Train and Test Data\n",
    "train_start = datetime.datetime(2007,1,1)\n",
    "train_end = datetime.datetime(2018,1,1)\n",
    "test_start = datetime.datetime(2018,1,1)\n",
    "test_end = datetime.datetime(2020,1,1)"
   ]
  },
  {
   "cell_type": "code",
   "execution_count": 26,
   "metadata": {},
   "outputs": [
    {
     "name": "stdout",
     "output_type": "stream",
     "text": [
      "0 : GOOGL,0 : GOOGL,"
     ]
    }
   ],
   "source": [
    "#Call The Functio\n",
    "df_train = download_data(train_start,train_end)\n",
    "df_test = download_data(test_start,test_end)"
   ]
  },
  {
   "cell_type": "code",
   "execution_count": 6,
   "metadata": {},
   "outputs": [
    {
     "data": {
      "text/html": [
       "<div>\n",
       "<style scoped>\n",
       "    .dataframe tbody tr th:only-of-type {\n",
       "        vertical-align: middle;\n",
       "    }\n",
       "\n",
       "    .dataframe tbody tr th {\n",
       "        vertical-align: top;\n",
       "    }\n",
       "\n",
       "    .dataframe thead th {\n",
       "        text-align: right;\n",
       "    }\n",
       "</style>\n",
       "<table border=\"1\" class=\"dataframe\">\n",
       "  <thead>\n",
       "    <tr style=\"text-align: right;\">\n",
       "      <th></th>\n",
       "      <th>Open</th>\n",
       "      <th>High</th>\n",
       "      <th>Low</th>\n",
       "      <th>Close</th>\n",
       "      <th>Adj Close</th>\n",
       "      <th>Volume</th>\n",
       "      <th>Name</th>\n",
       "    </tr>\n",
       "    <tr>\n",
       "      <th>Date</th>\n",
       "      <th></th>\n",
       "      <th></th>\n",
       "      <th></th>\n",
       "      <th></th>\n",
       "      <th></th>\n",
       "      <th></th>\n",
       "      <th></th>\n",
       "    </tr>\n",
       "  </thead>\n",
       "  <tbody>\n",
       "    <tr>\n",
       "      <th>2007-01-03</th>\n",
       "      <td>233.233231</td>\n",
       "      <td>238.568573</td>\n",
       "      <td>230.785782</td>\n",
       "      <td>234.029022</td>\n",
       "      <td>234.029022</td>\n",
       "      <td>15397587</td>\n",
       "      <td>GOOGL</td>\n",
       "    </tr>\n",
       "    <tr>\n",
       "      <th>2007-01-04</th>\n",
       "      <td>234.734741</td>\n",
       "      <td>242.217224</td>\n",
       "      <td>234.409409</td>\n",
       "      <td>241.871872</td>\n",
       "      <td>241.871872</td>\n",
       "      <td>15759425</td>\n",
       "      <td>GOOGL</td>\n",
       "    </tr>\n",
       "    <tr>\n",
       "      <th>2007-01-05</th>\n",
       "      <td>241.491486</td>\n",
       "      <td>243.993988</td>\n",
       "      <td>239.294296</td>\n",
       "      <td>243.838837</td>\n",
       "      <td>243.838837</td>\n",
       "      <td>13730456</td>\n",
       "      <td>GOOGL</td>\n",
       "    </tr>\n",
       "    <tr>\n",
       "      <th>2007-01-08</th>\n",
       "      <td>244.089096</td>\n",
       "      <td>245.180176</td>\n",
       "      <td>241.341339</td>\n",
       "      <td>242.032028</td>\n",
       "      <td>242.032028</td>\n",
       "      <td>9499291</td>\n",
       "      <td>GOOGL</td>\n",
       "    </tr>\n",
       "    <tr>\n",
       "      <th>2007-01-09</th>\n",
       "      <td>242.967972</td>\n",
       "      <td>244.369370</td>\n",
       "      <td>240.840836</td>\n",
       "      <td>242.992996</td>\n",
       "      <td>242.992996</td>\n",
       "      <td>10752037</td>\n",
       "      <td>GOOGL</td>\n",
       "    </tr>\n",
       "  </tbody>\n",
       "</table>\n",
       "</div>"
      ],
      "text/plain": [
       "                  Open        High         Low       Close   Adj Close  \\\n",
       "Date                                                                     \n",
       "2007-01-03  233.233231  238.568573  230.785782  234.029022  234.029022   \n",
       "2007-01-04  234.734741  242.217224  234.409409  241.871872  241.871872   \n",
       "2007-01-05  241.491486  243.993988  239.294296  243.838837  243.838837   \n",
       "2007-01-08  244.089096  245.180176  241.341339  242.032028  242.032028   \n",
       "2007-01-09  242.967972  244.369370  240.840836  242.992996  242.992996   \n",
       "\n",
       "              Volume   Name  \n",
       "Date                         \n",
       "2007-01-03  15397587  GOOGL  \n",
       "2007-01-04  15759425  GOOGL  \n",
       "2007-01-05  13730456  GOOGL  \n",
       "2007-01-08   9499291  GOOGL  \n",
       "2007-01-09  10752037  GOOGL  "
      ]
     },
     "execution_count": 6,
     "metadata": {},
     "output_type": "execute_result"
    }
   ],
   "source": [
    "df_train.head()"
   ]
  },
  {
   "cell_type": "code",
   "execution_count": 7,
   "metadata": {},
   "outputs": [
    {
     "name": "stdout",
     "output_type": "stream",
     "text": [
      "<class 'pandas.core.frame.DataFrame'>\n",
      "DatetimeIndex: 2769 entries, 2007-01-03 to 2017-12-29\n",
      "Data columns (total 7 columns):\n",
      " #   Column     Non-Null Count  Dtype  \n",
      "---  ------     --------------  -----  \n",
      " 0   Open       2769 non-null   float64\n",
      " 1   High       2769 non-null   float64\n",
      " 2   Low        2769 non-null   float64\n",
      " 3   Close      2769 non-null   float64\n",
      " 4   Adj Close  2769 non-null   float64\n",
      " 5   Volume     2769 non-null   int64  \n",
      " 6   Name       2769 non-null   object \n",
      "dtypes: float64(5), int64(1), object(1)\n",
      "memory usage: 173.1+ KB\n"
     ]
    }
   ],
   "source": [
    "df_train.info()"
   ]
  },
  {
   "cell_type": "markdown",
   "metadata": {},
   "source": [
    "##### Training Data is from 2007 till 2018"
   ]
  },
  {
   "cell_type": "markdown",
   "metadata": {},
   "source": [
    "## The Time Series Plot"
   ]
  },
  {
   "cell_type": "code",
   "execution_count": 8,
   "metadata": {},
   "outputs": [
    {
     "data": {
      "image/png": "[encoded data removed]",
      "text/plain": [
       "<Figure size 1080x504 with 1 Axes>"
      ]
     },
     "metadata": {
      "needs_background": "light"
     },
     "output_type": "display_data"
    }
   ],
   "source": [
    "plt.figure(figsize=(15,7))\n",
    "plt.plot(df_train.Close)\n",
    "plt.title('Google Time-series plot')\n",
    "plt.show()"
   ]
  },
  {
   "cell_type": "markdown",
   "metadata": {},
   "source": [
    "## Preprocessing"
   ]
  },
  {
   "cell_type": "code",
   "execution_count": 9,
   "metadata": {},
   "outputs": [
    {
     "data": {
      "text/plain": [
       "Index(['Open', 'High', 'Low', 'Close', 'Adj Close', 'Volume', 'Name'], dtype='object')"
      ]
     },
     "execution_count": 9,
     "metadata": {},
     "output_type": "execute_result"
    }
   ],
   "source": [
    "df_train.columns"
   ]
  },
  {
   "cell_type": "code",
   "execution_count": 10,
   "metadata": {},
   "outputs": [],
   "source": [
    "#We will use close price as a Target and drop rest of the columns\n",
    "df_train = df_train.drop(['Open', 'High', 'Low', 'Adj Close', 'Volume', 'Name'],axis=1)"
   ]
  },
  {
   "cell_type": "markdown",
   "metadata": {},
   "source": [
    "### Normalize the Dataset"
   ]
  },
  {
   "cell_type": "code",
   "execution_count": 11,
   "metadata": {},
   "outputs": [],
   "source": [
    "from sklearn.preprocessing import MinMaxScaler\n",
    "\n",
    "scaler = MinMaxScaler()\n",
    "\n",
    "df_train_scaled = scaler.fit_transform(df_train)"
   ]
  },
  {
   "cell_type": "markdown",
   "metadata": {},
   "source": [
    "### Creating Time-Step"
   ]
  },
  {
   "cell_type": "code",
   "execution_count": 12,
   "metadata": {},
   "outputs": [],
   "source": [
    "#Creating Data Stricture with 60 time-steps \n",
    "#60 time-step means we will try to predict on the basis of past 60 days of historical data\n",
    "\n",
    "time_step = 60\n",
    "\n",
    "X_train = []\n",
    "\n",
    "y_train = []\n",
    "\n",
    "for i in range(time_step,len(df_train_scaled)):\n",
    "    \n",
    "    X_train.append(df_train_scaled[i-time_step:i,0])\n",
    "    \n",
    "    y_train.append(df_train_scaled[i,0])\n",
    "\n",
    "X_train,y_train = np.array(X_train),np.array(y_train)"
   ]
  },
  {
   "cell_type": "code",
   "execution_count": 13,
   "metadata": {},
   "outputs": [
    {
     "data": {
      "text/plain": [
       "((2709, 60, 1), (2709,))"
      ]
     },
     "execution_count": 13,
     "metadata": {},
     "output_type": "execute_result"
    }
   ],
   "source": [
    "X_train = X_train.reshape((X_train.shape[0],X_train.shape[1],1))\n",
    "X_train.shape,y_train.shape"
   ]
  },
  {
   "cell_type": "markdown",
   "metadata": {},
   "source": [
    "## Model"
   ]
  },
  {
   "cell_type": "code",
   "execution_count": 14,
   "metadata": {},
   "outputs": [],
   "source": [
    "import tensorflow as tf\n",
    "from tensorflow.keras import Sequential\n",
    "from tensorflow.keras.callbacks import EarlyStopping\n",
    "from tensorflow.keras.layers import Dense,LSTM,Dropout"
   ]
  },
  {
   "cell_type": "code",
   "execution_count": 15,
   "metadata": {},
   "outputs": [],
   "source": [
    "def LSTM_model():\n",
    "    \n",
    "    model = Sequential()\n",
    "\n",
    "    #First LSTM layer\n",
    "    model.add(LSTM(units = 64, return_sequences = True, input_shape = (X_train.shape[1],1)))\n",
    "    model.add(Dropout(0.2))\n",
    "\n",
    "    #Second LSTM Layer\n",
    "    model.add(LSTM(units = 64, return_sequences = True))\n",
    "    model.add(Dropout(0.2))\n",
    "\n",
    "    #Third LSTM Layer\n",
    "    model.add(LSTM(units = 64, return_sequences = True))\n",
    "    model.add(Dropout(0.2))\n",
    "    \n",
    "    #Forth LSTM Layer\n",
    "    model.add(LSTM(units = 64))\n",
    "    model.add(Dropout(0.2))\n",
    "    \n",
    "\n",
    "    #Output Layer(Dense)\n",
    "    model.add(Dense(units=1))\n",
    "\n",
    "    return model"
   ]
  },
  {
   "cell_type": "code",
   "execution_count": 16,
   "metadata": {},
   "outputs": [
    {
     "name": "stdout",
     "output_type": "stream",
     "text": [
      "Epoch 1/15\n",
      "153/153 [==============================] - 18s 83ms/step - loss: 0.0061 - mean_squared_error: 0.0061 - cosine_proximity: 0.9873 - val_loss: 0.0011 - val_mean_squared_error: 0.0011 - val_cosine_proximity: 1.0000\n",
      "Epoch 2/15\n",
      "153/153 [==============================] - 13s 85ms/step - loss: 0.0015 - mean_squared_error: 0.0015 - cosine_proximity: 0.9996 - val_loss: 0.0044 - val_mean_squared_error: 0.0044 - val_cosine_proximity: 1.0000\n",
      "Epoch 3/15\n",
      "153/153 [==============================] - 12s 81ms/step - loss: 0.0014 - mean_squared_error: 0.0014 - cosine_proximity: 0.9979 - val_loss: 0.0011 - val_mean_squared_error: 0.0011 - val_cosine_proximity: 1.0000\n",
      "Epoch 4/15\n",
      "153/153 [==============================] - 11s 70ms/step - loss: 0.0012 - mean_squared_error: 0.0012 - cosine_proximity: 0.9979 - val_loss: 0.0054 - val_mean_squared_error: 0.0054 - val_cosine_proximity: 1.0000\n",
      "Epoch 5/15\n",
      "153/153 [==============================] - 12s 82ms/step - loss: 0.0011 - mean_squared_error: 0.0011 - cosine_proximity: 0.9971 - val_loss: 0.0021 - val_mean_squared_error: 0.0021 - val_cosine_proximity: 1.0000\n",
      "Epoch 6/15\n",
      "153/153 [==============================] - 11s 73ms/step - loss: 0.0013 - mean_squared_error: 0.0013 - cosine_proximity: 0.9955 - val_loss: 0.0015 - val_mean_squared_error: 0.0015 - val_cosine_proximity: 1.0000\n",
      "Epoch 7/15\n",
      "153/153 [==============================] - 12s 76ms/step - loss: 9.7416e-04 - mean_squared_error: 9.7416e-04 - cosine_proximity: 0.9996 - val_loss: 0.0020 - val_mean_squared_error: 0.0020 - val_cosine_proximity: 1.0000\n",
      "Epoch 8/15\n",
      "153/153 [==============================] - 13s 87ms/step - loss: 8.7760e-04 - mean_squared_error: 8.7760e-04 - cosine_proximity: 0.9955 - val_loss: 0.0021 - val_mean_squared_error: 0.0021 - val_cosine_proximity: 1.0000\n",
      "Epoch 9/15\n",
      "153/153 [==============================] - 12s 77ms/step - loss: 9.8128e-04 - mean_squared_error: 9.8128e-04 - cosine_proximity: 0.9955 - val_loss: 5.6497e-04 - val_mean_squared_error: 5.6497e-04 - val_cosine_proximity: 1.0000\n",
      "Epoch 10/15\n",
      "153/153 [==============================] - 12s 79ms/step - loss: 9.6463e-04 - mean_squared_error: 9.6463e-04 - cosine_proximity: 0.9947 - val_loss: 0.0018 - val_mean_squared_error: 0.0018 - val_cosine_proximity: 1.0000\n",
      "Epoch 11/15\n",
      "153/153 [==============================] - 12s 78ms/step - loss: 8.9306e-04 - mean_squared_error: 8.9306e-04 - cosine_proximity: 0.9955 - val_loss: 5.8581e-04 - val_mean_squared_error: 5.8581e-04 - val_cosine_proximity: 1.0000\n",
      "Epoch 12/15\n",
      "153/153 [==============================] - 12s 77ms/step - loss: 9.4624e-04 - mean_squared_error: 9.4624e-04 - cosine_proximity: 0.9938 - val_loss: 0.0063 - val_mean_squared_error: 0.0063 - val_cosine_proximity: 1.0000\n",
      "Epoch 13/15\n",
      "153/153 [==============================] - 12s 78ms/step - loss: 8.6220e-04 - mean_squared_error: 8.6220e-04 - cosine_proximity: 0.9906 - val_loss: 0.0017 - val_mean_squared_error: 0.0017 - val_cosine_proximity: 1.0000\n",
      "Epoch 14/15\n",
      "153/153 [==============================] - 12s 79ms/step - loss: 7.3925e-04 - mean_squared_error: 7.3925e-04 - cosine_proximity: 0.9930 - val_loss: 5.0812e-04 - val_mean_squared_error: 5.0812e-04 - val_cosine_proximity: 1.0000\n",
      "Epoch 15/15\n",
      "153/153 [==============================] - 12s 80ms/step - loss: 7.8825e-04 - mean_squared_error: 7.8825e-04 - cosine_proximity: 0.9897 - val_loss: 0.0014 - val_mean_squared_error: 0.0014 - val_cosine_proximity: 1.0000\n"
     ]
    },
    {
     "data": {
      "text/plain": [
       "<tensorflow.python.keras.callbacks.History at 0x7fd510052700>"
      ]
     },
     "execution_count": 16,
     "metadata": {},
     "output_type": "execute_result"
    }
   ],
   "source": [
    "model = LSTM_model()\n",
    "model.compile(optimizer='adam',loss='mean_squared_error',metrics=['mean_squared_error',  'cosine_proximity'])\n",
    "\n",
    "earlystopping=EarlyStopping(monitor=\"mean_squared_error\", patience=5, verbose=1, mode='auto')\n",
    "\n",
    "model.fit(X_train,y_train,epochs = 15,validation_split = 0.1, batch_size = 16,callbacks=[earlystopping])"
   ]
  },
  {
   "cell_type": "code",
   "execution_count": 17,
   "metadata": {},
   "outputs": [],
   "source": [
    "#Saving The Model\n",
    "model.save('time_series_lstm.h5')"
   ]
  },
  {
   "cell_type": "markdown",
   "metadata": {},
   "source": [
    "### Test our Model on Test Set"
   ]
  },
  {
   "cell_type": "code",
   "execution_count": 27,
   "metadata": {},
   "outputs": [
    {
     "name": "stdout",
     "output_type": "stream",
     "text": [
      "<class 'pandas.core.frame.DataFrame'>\n",
      "DatetimeIndex: 503 entries, 2018-01-02 to 2019-12-31\n",
      "Data columns (total 7 columns):\n",
      " #   Column     Non-Null Count  Dtype  \n",
      "---  ------     --------------  -----  \n",
      " 0   Open       503 non-null    float64\n",
      " 1   High       503 non-null    float64\n",
      " 2   Low        503 non-null    float64\n",
      " 3   Close      503 non-null    float64\n",
      " 4   Adj Close  503 non-null    float64\n",
      " 5   Volume     503 non-null    int64  \n",
      " 6   Name       503 non-null    object \n",
      "dtypes: float64(5), int64(1), object(1)\n",
      "memory usage: 31.4+ KB\n",
      "None\n"
     ]
    },
    {
     "data": {
      "text/html": [
       "<div>\n",
       "<style scoped>\n",
       "    .dataframe tbody tr th:only-of-type {\n",
       "        vertical-align: middle;\n",
       "    }\n",
       "\n",
       "    .dataframe tbody tr th {\n",
       "        vertical-align: top;\n",
       "    }\n",
       "\n",
       "    .dataframe thead th {\n",
       "        text-align: right;\n",
       "    }\n",
       "</style>\n",
       "<table border=\"1\" class=\"dataframe\">\n",
       "  <thead>\n",
       "    <tr style=\"text-align: right;\">\n",
       "      <th></th>\n",
       "      <th>Open</th>\n",
       "      <th>High</th>\n",
       "      <th>Low</th>\n",
       "      <th>Close</th>\n",
       "      <th>Adj Close</th>\n",
       "      <th>Volume</th>\n",
       "      <th>Name</th>\n",
       "    </tr>\n",
       "    <tr>\n",
       "      <th>Date</th>\n",
       "      <th></th>\n",
       "      <th></th>\n",
       "      <th></th>\n",
       "      <th></th>\n",
       "      <th></th>\n",
       "      <th></th>\n",
       "      <th></th>\n",
       "    </tr>\n",
       "  </thead>\n",
       "  <tbody>\n",
       "    <tr>\n",
       "      <th>2018-01-02</th>\n",
       "      <td>1053.020020</td>\n",
       "      <td>1075.979980</td>\n",
       "      <td>1053.020020</td>\n",
       "      <td>1073.209961</td>\n",
       "      <td>1073.209961</td>\n",
       "      <td>1588300</td>\n",
       "      <td>GOOGL</td>\n",
       "    </tr>\n",
       "    <tr>\n",
       "      <th>2018-01-03</th>\n",
       "      <td>1073.930054</td>\n",
       "      <td>1096.099976</td>\n",
       "      <td>1073.430054</td>\n",
       "      <td>1091.520020</td>\n",
       "      <td>1091.520020</td>\n",
       "      <td>1565900</td>\n",
       "      <td>GOOGL</td>\n",
       "    </tr>\n",
       "    <tr>\n",
       "      <th>2018-01-04</th>\n",
       "      <td>1097.089966</td>\n",
       "      <td>1104.079956</td>\n",
       "      <td>1094.260010</td>\n",
       "      <td>1095.760010</td>\n",
       "      <td>1095.760010</td>\n",
       "      <td>1302600</td>\n",
       "      <td>GOOGL</td>\n",
       "    </tr>\n",
       "    <tr>\n",
       "      <th>2018-01-05</th>\n",
       "      <td>1103.449951</td>\n",
       "      <td>1113.579956</td>\n",
       "      <td>1101.800049</td>\n",
       "      <td>1110.290039</td>\n",
       "      <td>1110.290039</td>\n",
       "      <td>1512500</td>\n",
       "      <td>GOOGL</td>\n",
       "    </tr>\n",
       "    <tr>\n",
       "      <th>2018-01-08</th>\n",
       "      <td>1111.000000</td>\n",
       "      <td>1119.160034</td>\n",
       "      <td>1110.000000</td>\n",
       "      <td>1114.209961</td>\n",
       "      <td>1114.209961</td>\n",
       "      <td>1232200</td>\n",
       "      <td>GOOGL</td>\n",
       "    </tr>\n",
       "  </tbody>\n",
       "</table>\n",
       "</div>"
      ],
      "text/plain": [
       "                   Open         High          Low        Close    Adj Close  \\\n",
       "Date                                                                          \n",
       "2018-01-02  1053.020020  1075.979980  1053.020020  1073.209961  1073.209961   \n",
       "2018-01-03  1073.930054  1096.099976  1073.430054  1091.520020  1091.520020   \n",
       "2018-01-04  1097.089966  1104.079956  1094.260010  1095.760010  1095.760010   \n",
       "2018-01-05  1103.449951  1113.579956  1101.800049  1110.290039  1110.290039   \n",
       "2018-01-08  1111.000000  1119.160034  1110.000000  1114.209961  1114.209961   \n",
       "\n",
       "             Volume   Name  \n",
       "Date                        \n",
       "2018-01-02  1588300  GOOGL  \n",
       "2018-01-03  1565900  GOOGL  \n",
       "2018-01-04  1302600  GOOGL  \n",
       "2018-01-05  1512500  GOOGL  \n",
       "2018-01-08  1232200  GOOGL  "
      ]
     },
     "execution_count": 27,
     "metadata": {},
     "output_type": "execute_result"
    }
   ],
   "source": [
    "print(df_test.info())\n",
    "df_test.head()"
   ]
  },
  {
   "cell_type": "markdown",
   "metadata": {},
   "source": [
    "### Preprocessing of Test Dataset"
   ]
  },
  {
   "cell_type": "code",
   "execution_count": 28,
   "metadata": {},
   "outputs": [
    {
     "data": {
      "text/plain": [
       "((443, 60, 1), (443,))"
      ]
     },
     "execution_count": 28,
     "metadata": {},
     "output_type": "execute_result"
    }
   ],
   "source": [
    "\n",
    "df_test = df_test.drop(['Open', 'High', 'Low', 'Adj Close', 'Volume', 'Name'],axis=1)\n",
    "df_test_scaled = scaler.transform(df_test)\n",
    "\n",
    "\n",
    "X_test = []\n",
    "\n",
    "y_test= []\n",
    "\n",
    "for i in range(time_step,len(df_test_scaled)):\n",
    "    \n",
    "    X_test.append(df_test_scaled[i-time_step:i,0])\n",
    "    \n",
    "    y_test.append(df_test_scaled[i,0])\n",
    "\n",
    "X_test,y_test = np.array(X_test),np.array(y_test)\n",
    "\n",
    "X_test = X_test.reshape((X_test.shape[0],X_test.shape[1],1))\n",
    "X_test.shape,y_test.shape"
   ]
  },
  {
   "cell_type": "code",
   "execution_count": 29,
   "metadata": {},
   "outputs": [],
   "source": [
    "#Predict on Test Dataset\n",
    "y_pred = model.predict(X_test)"
   ]
  },
  {
   "cell_type": "code",
   "execution_count": 30,
   "metadata": {},
   "outputs": [
    {
     "data": {
      "text/plain": [
       "(443, 1)"
      ]
     },
     "execution_count": 30,
     "metadata": {},
     "output_type": "execute_result"
    }
   ],
   "source": [
    "y_test=y_test.reshape((-1,1))\n",
    "y_test.shape"
   ]
  },
  {
   "cell_type": "code",
   "execution_count": 31,
   "metadata": {},
   "outputs": [],
   "source": [
    "#Creating test result Dataset\n",
    "df = pd.DataFrame()\n",
    "y_pred_actual= scaler.inverse_transform(y_pred)\n",
    "\n",
    "y_test_actual = df_test[time_step:]['Close']\n",
    "\n",
    "df['y_test'] = y_test_actual\n",
    "\n",
    "df['y_pred'] = y_pred_actual\n",
    "\n",
    "df.index = df_test.index[time_step:]"
   ]
  },
  {
   "cell_type": "code",
   "execution_count": 32,
   "metadata": {},
   "outputs": [
    {
     "data": {
      "text/html": [
       "<div>\n",
       "<style scoped>\n",
       "    .dataframe tbody tr th:only-of-type {\n",
       "        vertical-align: middle;\n",
       "    }\n",
       "\n",
       "    .dataframe tbody tr th {\n",
       "        vertical-align: top;\n",
       "    }\n",
       "\n",
       "    .dataframe thead th {\n",
       "        text-align: right;\n",
       "    }\n",
       "</style>\n",
       "<table border=\"1\" class=\"dataframe\">\n",
       "  <thead>\n",
       "    <tr style=\"text-align: right;\">\n",
       "      <th></th>\n",
       "      <th>y_test</th>\n",
       "      <th>y_pred</th>\n",
       "    </tr>\n",
       "    <tr>\n",
       "      <th>Date</th>\n",
       "      <th></th>\n",
       "      <th></th>\n",
       "    </tr>\n",
       "  </thead>\n",
       "  <tbody>\n",
       "    <tr>\n",
       "      <th>2018-03-29</th>\n",
       "      <td>1037.140015</td>\n",
       "      <td>1031.836426</td>\n",
       "    </tr>\n",
       "    <tr>\n",
       "      <th>2018-04-02</th>\n",
       "      <td>1012.630005</td>\n",
       "      <td>1021.420166</td>\n",
       "    </tr>\n",
       "    <tr>\n",
       "      <th>2018-04-03</th>\n",
       "      <td>1018.679993</td>\n",
       "      <td>1011.954102</td>\n",
       "    </tr>\n",
       "    <tr>\n",
       "      <th>2018-04-04</th>\n",
       "      <td>1029.709961</td>\n",
       "      <td>1003.912476</td>\n",
       "    </tr>\n",
       "    <tr>\n",
       "      <th>2018-04-05</th>\n",
       "      <td>1032.640015</td>\n",
       "      <td>997.731445</td>\n",
       "    </tr>\n",
       "  </tbody>\n",
       "</table>\n",
       "</div>"
      ],
      "text/plain": [
       "                 y_test       y_pred\n",
       "Date                                \n",
       "2018-03-29  1037.140015  1031.836426\n",
       "2018-04-02  1012.630005  1021.420166\n",
       "2018-04-03  1018.679993  1011.954102\n",
       "2018-04-04  1029.709961  1003.912476\n",
       "2018-04-05  1032.640015   997.731445"
      ]
     },
     "execution_count": 32,
     "metadata": {},
     "output_type": "execute_result"
    }
   ],
   "source": [
    "df.head()"
   ]
  },
  {
   "cell_type": "code",
   "execution_count": 33,
   "metadata": {},
   "outputs": [
    {
     "data": {
      "image/png": "[encoded data removed]",
      "text/plain": [
       "<Figure size 1080x432 with 1 Axes>"
      ]
     },
     "metadata": {
      "needs_background": "light"
     },
     "output_type": "display_data"
    }
   ],
   "source": [
    "plt.figure(figsize=(15,6))\n",
    "plt.plot(df['y_test'],color='b')\n",
    "plt.plot(df['y_pred'],color='y')\n",
    "plt.title(\"Actual vs Predicted\")\n",
    "plt.xlabel('Date')\n",
    "plt.ylabel('Price')\n",
    "plt.show()"
   ]
  }
 ],
 "metadata": {
  "kernelspec": {
   "display_name": "Python 3",
   "language": "python",
   "name": "python3"
  },
  "language_info": {
   "codemirror_mode": {
    "name": "ipython",
    "version": 3
   },
   "file_extension": ".py",
   "mimetype": "text/x-python",
   "name": "python",
   "nbconvert_exporter": "python",
   "pygments_lexer": "ipython3",
   "version": "3.8.5"
  }
 },
 "nbformat": 4,
 "nbformat_minor": 4
}
